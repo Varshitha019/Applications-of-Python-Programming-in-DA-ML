{
  "nbformat": 4,
  "nbformat_minor": 0,
  "metadata": {
    "colab": {
      "name": "Day1_Session1_Exercises.ipynb",
      "provenance": [],
      "collapsed_sections": [],
      "authorship_tag": "ABX9TyO43DDTyS4v20jEJrZ6CZSy",
      "include_colab_link": true
    },
    "kernelspec": {
      "name": "python3",
      "display_name": "Python 3"
    }
  },
  "cells": [
    {
      "cell_type": "markdown",
      "metadata": {
        "id": "view-in-github",
        "colab_type": "text"
      },
      "source": [
        "<a href=\"https://colab.research.google.com/github/Varshitha019/Python_Programming_in_DA_and_ML/blob/master/Day1_Session1_Exercises.ipynb\" target=\"_parent\"><img src=\"https://colab.research.google.com/assets/colab-badge.svg\" alt=\"Open In Colab\"/></a>"
      ]
    },
    {
      "cell_type": "markdown",
      "metadata": {
        "id": "gePi1Zbedxr0",
        "colab_type": "text"
      },
      "source": [
        "#1. Find the compound interest for the given p,n,r (formula : p(1+n*r/100)n )"
      ]
    },
    {
      "cell_type": "markdown",
      "metadata": {
        "id": "WKtDj-50gMAk",
        "colab_type": "text"
      },
      "source": [
        ""
      ]
    },
    {
      "cell_type": "code",
      "metadata": {
        "id": "gi0XKf1Crqhv",
        "colab_type": "code",
        "colab": {
          "base_uri": "https://localhost:8080/",
          "height": 34
        },
        "outputId": "a63a4953-fa74-49e6-a6fd-22e75027a199"
      },
      "source": [
        "# Python3 program to find compound \n",
        "# interest for given values. \n",
        "\n",
        "def compound_interest(principle, rate, time): \n",
        "\n",
        "\t# Calculates compound interest \n",
        "\tCI = principle * (pow((1 + rate / 100), time)) \n",
        "\tprint(\"Compound interest is\", CI) \n",
        "\n",
        "# Driver Code \n",
        "compound_interest(10000, 10.25, 5) \n",
        "\n"
      ],
      "execution_count": null,
      "outputs": [
        {
          "output_type": "stream",
          "text": [
            "Compound interest is 16288.946267774416\n"
          ],
          "name": "stdout"
        }
      ]
    },
    {
      "cell_type": "markdown",
      "metadata": {
        "id": "-xW6bsFcr9fs",
        "colab_type": "text"
      },
      "source": [
        "#2.Convert centegrade to farenheit  ( f= 9/5*c+32)"
      ]
    },
    {
      "cell_type": "code",
      "metadata": {
        "id": "In6XDqy_r_90",
        "colab_type": "code",
        "colab": {
          "base_uri": "https://localhost:8080/",
          "height": 51
        },
        "outputId": "e1e10618-86e7-4201-cb75-280972dbaf13"
      },
      "source": [
        "temp = input(\"Input the  temperature you like to convert? (e.g., 45F, 102C etc.) : \")\n",
        "degree = int(temp[:-1])\n",
        "i_convention = temp[-1]\n",
        "\n",
        "if i_convention.upper() == \"C\":\n",
        "  result = int(round((9 * degree) / 5 + 32))\n",
        "  o_convention = \"Fahrenheit\"\n",
        "elif i_convention.upper() == \"F\":\n",
        "  result = int(round((degree - 32) * 5 / 9))\n",
        "  o_convention = \"Celsius\"\n",
        "else:\n",
        "  print(\"Input proper convention.\")\n",
        "  quit()\n",
        "print(\"The temperature in\", o_convention, \"is\", result, \"degrees.\")\n"
      ],
      "execution_count": null,
      "outputs": [
        {
          "output_type": "stream",
          "text": [
            "Input the  temperature you like to convert? (e.g., 45F, 102C etc.) : 102C\n",
            "The temperature in Fahrenheit is 216 degrees.\n"
          ],
          "name": "stdout"
        }
      ]
    },
    {
      "cell_type": "markdown",
      "metadata": {
        "id": "_Vb0ohhMs5sl",
        "colab_type": "text"
      },
      "source": [
        "#3.Find the greater of two nos"
      ]
    },
    {
      "cell_type": "code",
      "metadata": {
        "id": "5ofRkKfEs6jE",
        "colab_type": "code",
        "colab": {
          "base_uri": "https://localhost:8080/",
          "height": 68
        },
        "outputId": "2c2fb87a-730a-4c41-ffc5-d4f792ed4607"
      },
      "source": [
        "a = float(input(\" Please Enter the First Value a: \"))\n",
        "b = float(input(\" Please Enter the Second Value b: \"))\n",
        "if(a > b):\n",
        "    print(\"{0} is Greater than {1}\".format(a, b))\n",
        "elif(b > a):\n",
        "    print(\"{0} is Greater than {1}\".format(b, a))\n",
        "else:\n",
        "    print(\"Both a and b are Equal\")\n",
        "\n"
      ],
      "execution_count": null,
      "outputs": [
        {
          "output_type": "stream",
          "text": [
            " Please Enter the First Value a: 12\n",
            " Please Enter the Second Value b: 23\n",
            "23.0 is Greater than 12.0\n"
          ],
          "name": "stdout"
        }
      ]
    },
    {
      "cell_type": "markdown",
      "metadata": {
        "id": "yfRfL8osuXkS",
        "colab_type": "text"
      },
      "source": [
        "#4.Write a program for finding surface areas of cylinder and cone (2*PI*r*r*h, 1/3*PI*r*r*h) using function."
      ]
    },
    {
      "cell_type": "code",
      "metadata": {
        "id": "dX2NZj6ad-St",
        "colab_type": "code",
        "colab": {
          "base_uri": "https://localhost:8080/",
          "height": 85
        },
        "outputId": "078a8161-ea1a-47c1-e582-7331da7678ec"
      },
      "source": [
        "\n",
        "import math\n",
        "def Cylinder(r,h):\n",
        "  return 2*math.pi*r*r*h\n",
        "def cone(r,h):\n",
        "  return (1/3)*math.pi*r*r*h\n",
        "r=int(input(\"enter r value : \"))\n",
        "h=int(input(\"enter h value : \"))\n",
        "print(\"surface area of cylinder is : %.2f\"%Cylinder(r,h))\n",
        "print(\"surface area of cone is : %.2f \"%cone(r,h))\n"
      ],
      "execution_count": null,
      "outputs": [
        {
          "output_type": "stream",
          "text": [
            "enter r value : 5\n",
            "enter h value : 8\n",
            "surface area of cylinder is : 1256.64\n",
            "surface area of cone is : 209.44 \n"
          ],
          "name": "stdout"
        }
      ]
    },
    {
      "cell_type": "markdown",
      "metadata": {
        "id": "1owLTxq0eQIZ",
        "colab_type": "text"
      },
      "source": [
        "#5.Find the greatest of four nos ( using ‘and’ operator)   using function."
      ]
    },
    {
      "cell_type": "code",
      "metadata": {
        "id": "BJydhOKjeXya",
        "colab_type": "code",
        "colab": {
          "base_uri": "https://localhost:8080/",
          "height": 119
        },
        "outputId": "fe349d4b-d5c1-4803-f916-bd1a1c8ac1e2"
      },
      "source": [
        "a=int(input(\"enter 1st num: \"))\n",
        "b=int(input(\"enter 2nd num: \"))\n",
        "c=int(input(\"enter 3rd num: \"))\n",
        "d=int(input(\"enter 4th num: \"))\n",
        "print(\"greater num is : \")\n",
        "if(a>b and a>c and a>d):\n",
        "  print(a)\n",
        "elif(b>c and b>d):\n",
        "  print(b)\n",
        "elif(c>d):\n",
        "  print(c)\n",
        "else:\n",
        "  print(d)"
      ],
      "execution_count": null,
      "outputs": [
        {
          "output_type": "stream",
          "text": [
            "enter 1st num: 1\n",
            "enter 2nd num: 2\n",
            "enter 3rd num: 3\n",
            "enter 4th num: 4\n",
            "greater num is : \n",
            "4\n"
          ],
          "name": "stdout"
        }
      ]
    },
    {
      "cell_type": "markdown",
      "metadata": {
        "id": "iW-srwk-epO7",
        "colab_type": "text"
      },
      "source": [
        "#6.Write a  menu program to perform the operations ( ODDorEven, Factorial, ODDNoUptoN, PrimeUptoN ) using functions for two nos with  menu choice\n",
        "\n"
      ]
    },
    {
      "cell_type": "code",
      "metadata": {
        "id": "s8VSTt7xetfO",
        "colab_type": "code",
        "colab": {
          "base_uri": "https://localhost:8080/",
          "height": 1000
        },
        "outputId": "fc81302e-8f11-48dc-9e91-048888ae5ee5"
      },
      "source": [
        "loop = 1 \n",
        "choice = 0 \n",
        "\n",
        "def oddoreven(a):\n",
        "  if(a%2==0):\n",
        "    print(\"even\")\n",
        "  else:\n",
        "    print(\"odd\") \n",
        "def fact(num):\n",
        "  factorial=1\n",
        "  if num < 0:\n",
        "     print(\"Sorry, factorial does not exist for negative numbers\")\n",
        "  elif num == 0:\n",
        "     print(\"The factorial of 0 is 1\")\n",
        "  else:\n",
        "     for i in range(1,num + 1):\n",
        "         factorial = factorial*i\n",
        "     print(\"The factorial of\",num,\"is\",factorial)\n",
        "def odd(n):\n",
        "   print(\"odd numbers: \");\n",
        "   for i in range(1,n+1):\n",
        "      if(i%2!=0):\n",
        "        print(i)\n",
        "def prime(l,h):\n",
        "  print(\"prime numbers: \")\n",
        "  for num in range(l,h + 1):  \n",
        "   if num > 1:  \n",
        "       for i in range(2,num):  \n",
        "           if (num % i) == 0:  \n",
        "               break  \n",
        "       else:  \n",
        "           print(num)  \n",
        "\n",
        "while loop == 1:\n",
        "  print (\"Welcome\")\n",
        "  print (\"your options are:\")\n",
        "  print (\"\")\n",
        "  print(\"1) odd or even\")\n",
        "  print(\"2) factorial\")\n",
        "  print(\"3) odd upto n\")\n",
        "  print(\"4) prime upto n\")\n",
        "  print(\"5) Quit \")\n",
        "  print(\"\")\n",
        "  try:\n",
        "    choice = int(input(\"Choose your option: \"))\n",
        "  except:\n",
        "     print('please enter a valid number for option')\n",
        "     print(\"\")\n",
        "  print(\"\")\n",
        "  if choice == 1:\n",
        "       x = int(input(\" Enter  no: \"))\n",
        "       oddoreven(x)\n",
        "\n",
        "  elif choice == 2:\n",
        "     x = int(input(\"Enter  no: \"))\n",
        "     fact(x)\n",
        "\n",
        "  elif choice == 3:\n",
        "      x = int(input(\"Enter range: \"))\n",
        "      odd(x)\n",
        "\n",
        "  elif choice == 4:\n",
        "       x = int(input(\"Enter lower range: \"))\n",
        "       y = int(input(\"Enter upper range: \"))\n",
        "       prime(x,y)\n",
        "\n",
        "  elif choice == 5:\n",
        "      loop = 0\n",
        "\n",
        "  else:\n",
        "       print(\"please choice a valid option from 1 to 5\")\n",
        "       choice=0\n",
        "print (\"Thank-you \")"
      ],
      "execution_count": null,
      "outputs": [
        {
          "output_type": "stream",
          "text": [
            "Welcome\n",
            "your options are:\n",
            "\n",
            "1) odd or even\n",
            "2) factorial\n",
            "3) odd upto n\n",
            "4) prime upto n\n",
            "5) Quit \n",
            "\n",
            "Choose your option: 1\n",
            "\n",
            " Enter  no: 485\n",
            "odd\n",
            "Welcome\n",
            "your options are:\n",
            "\n",
            "1) odd or even\n",
            "2) factorial\n",
            "3) odd upto n\n",
            "4) prime upto n\n",
            "5) Quit \n",
            "\n",
            "Choose your option: 2\n",
            "\n",
            "Enter  no: 58\n",
            "The factorial of 58 is 2350561331282878571829474910515074683828862318181142924420699914240000000000000\n",
            "Welcome\n",
            "your options are:\n",
            "\n",
            "1) odd or even\n",
            "2) factorial\n",
            "3) odd upto n\n",
            "4) prime upto n\n",
            "5) Quit \n",
            "\n",
            "Choose your option: 3\n",
            "\n",
            "Enter range: 99\n",
            "odd numbers: \n",
            "1\n",
            "3\n",
            "5\n",
            "7\n",
            "9\n",
            "11\n",
            "13\n",
            "15\n",
            "17\n",
            "19\n",
            "21\n",
            "23\n",
            "25\n",
            "27\n",
            "29\n",
            "31\n",
            "33\n",
            "35\n",
            "37\n",
            "39\n",
            "41\n",
            "43\n",
            "45\n",
            "47\n",
            "49\n",
            "51\n",
            "53\n",
            "55\n",
            "57\n",
            "59\n",
            "61\n",
            "63\n",
            "65\n",
            "67\n",
            "69\n",
            "71\n",
            "73\n",
            "75\n",
            "77\n",
            "79\n",
            "81\n",
            "83\n",
            "85\n",
            "87\n",
            "89\n",
            "91\n",
            "93\n",
            "95\n",
            "97\n",
            "99\n",
            "Welcome\n",
            "your options are:\n",
            "\n",
            "1) odd or even\n",
            "2) factorial\n",
            "3) odd upto n\n",
            "4) prime upto n\n",
            "5) Quit \n",
            "\n",
            "Choose your option: 12\n",
            "\n",
            "please choice a valid option from 1 to 5\n",
            "Welcome\n",
            "your options are:\n",
            "\n",
            "1) odd or even\n",
            "2) factorial\n",
            "3) odd upto n\n",
            "4) prime upto n\n",
            "5) Quit \n",
            "\n",
            "Choose your option: 5\n",
            "\n",
            "Thank-you \n"
          ],
          "name": "stdout"
        }
      ]
    }
  ]
}